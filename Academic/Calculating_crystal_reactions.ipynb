{
 "cells": [
  {
   "cell_type": "markdown",
   "metadata": {},
   "source": [
    "# Calculating crystal reactions"
   ]
  },
  {
   "cell_type": "markdown",
   "metadata": {},
   "source": [
    "This Jupyter notebook calculates the growth or dissolution of crystals as they interact with a hotter, compositionally distinct intruding liquid. We present three simulations of olivine crystals in a basaltic liquid, with varied initial crystal fractions (1%, 9%, and 20%). All other parameters (intrusion rate, liquid and crystal properties, domain size, etc.) are constant.\n",
    "\n",
    "Below you can watch a movie of the 3 simulations. The top row shows the temperature of the liquids and crystals; the resident liquid and crystals are at 1290&#176;C and the intruding liquid is at 1340&#176;C. The bottom row shows the position of the crystals (black dots) and the MgO composition of the interacting liquids. Blue represents the resident liquid at 10.76 wt% MgO, and red is the intruding liquid at 12.94 wt% MgO. \n",
    "\n",
    "Note: It might take a minute to load the movie, and you should be able to watch it in full-screen mode."
   ]
  },
  {
   "cell_type": "code",
   "execution_count": null,
   "metadata": {},
   "outputs": [],
   "source": [
    "%%HTML\n",
    "<iframe width=\"560\" height=\"315\" src=\"https://www.youtube.com/embed/fpTdpd3jZSI\" frameborder=\"0\" allowfullscreen></iframe>"
   ]
  },
  {
   "cell_type": "markdown",
   "metadata": {},
   "source": [
    "You can also watch a zoomed-in movie from the first 50 seconds of the simulation with 9% crystals, focusing on the intrusion site. The liquids and crystals are colored by their temperature."
   ]
  },
  {
   "cell_type": "code",
   "execution_count": null,
   "metadata": {},
   "outputs": [],
   "source": [
    "%%HTML\n",
    "<iframe width=\"560\" height=\"315\" src=\"https://www.youtube.com/embed/st4MZeoYKLI\" frameborder=\"0\" allowfullscreen></iframe>"
   ]
  },
  {
   "cell_type": "markdown",
   "metadata": {},
   "source": [
    "## Comparing the simulations from the crystals' perspective\n",
    "We chose 100 random locations within a region (grey in below image) centered around the intrusion site (black box), and found the nearest crystals for each of the 3 simulations. You will be able to choose which initial locations you want to track."
   ]
  },
  {
   "cell_type": "markdown",
   "metadata": {},
   "source": [
    "<img src='100_random_locations.png',width=600,height=600>"
   ]
  },
  {
   "cell_type": "code",
   "execution_count": null,
   "metadata": {},
   "outputs": [],
   "source": [
    "# Call libraries, read in crystal data\n",
    "import numpy as np\n",
    "import pandas as pd\n",
    "import time\n",
    "import matplotlib.pyplot as plt\n",
    "\n",
    "randoms = pd.read_csv('random_locations.csv',names=['Random_Xs', 'Random_Ys'])\n",
    "one = pd.read_csv('particle_ids_coords_one.csv', names=['One_IDs', 'One_Xs', 'One_Ys'])\n",
    "nine = pd.read_csv('particle_ids_coords_nine.csv', names=['Nine_IDs', 'Nine_Xs', 'Nine_Ys'])\n",
    "twenty = pd.read_csv('particle_ids_coords_twenty.csv', names=['Twenty_IDs', 'Twenty_Xs', 'Twenty_Ys'])\n",
    "\n",
    "all_data = pd.concat([randoms, one, nine, twenty], axis = 1)\n",
    "\n",
    "one_100 = pd.read_csv('one_100particles_data.csv', index_col = 0)\n",
    "nine_100 = pd.read_csv('nine_100particles_data.csv', index_col = 0)\n",
    "twenty_100 = pd.read_csv('twenty_100particles_data.csv', index_col = 0)"
   ]
  },
  {
   "cell_type": "markdown",
   "metadata": {},
   "source": [
    "## Selecting the crystals\n",
    "In the plot below, you are able to select the index of a random location chosen from the grey region in the figure above. Each location has associated crystals from each of the 3 simulations, and these will be the crystals you use in the following plots and reaction calculations. Simply click your mouse on a point on the scatterplot and the index of that location will be stored and used for further calculations. Clicking only works once, and if another point is desired, you must re-run the cell."
   ]
  },
  {
   "cell_type": "code",
   "execution_count": null,
   "metadata": {},
   "outputs": [],
   "source": [
    "%matplotlib notebook\n",
    "\n",
    "x = all_data.Random_Xs\n",
    "y = all_data.Random_Ys\n",
    "names = all_data.index\n",
    "\n",
    "\n",
    "def onpick(event):\n",
    "\n",
    "    ind = event.ind\n",
    "    # Use the point clicked on as the index for particles\n",
    "    global index\n",
    "    index = ind[0]\n",
    "    print('Index chosen: ', index)\n",
    "\n",
    "    # Stop recording points after one is chosen\n",
    "    fig.canvas.mpl_disconnect(cid)\n",
    "\n",
    "    return index\n",
    "\n",
    "fig = plt.figure(figsize=(12,6))\n",
    "ax1 = fig.add_subplot(111)\n",
    "col = ax1.scatter(x, y, picker=True)\n",
    "ax1.set_xlim(0, 512)\n",
    "ax1.set_ylim(0, 256)\n",
    "\n",
    "cid = fig.canvas.mpl_connect('pick_event', onpick)"
   ]
  },
  {
   "cell_type": "markdown",
   "metadata": {},
   "source": [
    "## Choose the initial position location\n",
    "Enter the location index from the above plot"
   ]
  },
  {
   "cell_type": "code",
   "execution_count": null,
   "metadata": {},
   "outputs": [],
   "source": [
    "print(index)"
   ]
  },
  {
   "cell_type": "code",
   "execution_count": null,
   "metadata": {},
   "outputs": [],
   "source": [
    "# Read in the specific crystal data for the selected initial position\n",
    "one_id = all_data.One_IDs[index]\n",
    "nine_id = all_data.Nine_IDs[index]\n",
    "twenty_id = all_data.Twenty_IDs[index]\n",
    "\n",
    "one_cols = [col for col in one_100.columns if str(one_id) in col]\n",
    "nine_cols = [col for col in nine_100.columns if str(nine_id) in col]\n",
    "twenty_cols = [col for col in twenty_100.columns if str(twenty_id) in col]\n",
    "\n",
    "one_data = one_100[one_cols]\n",
    "nine_data = nine_100[nine_cols]\n",
    "twenty_data = twenty_100[twenty_cols]"
   ]
  },
  {
   "cell_type": "markdown",
   "metadata": {},
   "source": [
    "## Crystal monitoring\n",
    "We can track the 3 crystals throughout the simulation time, monitoring their positions and temperatures, as well as the temperature and composition of the liquid they are moving through. The next 3 plots show the trajectories, crystal temperatures, and liquid composition through time for each of the chosen crystals."
   ]
  },
  {
   "cell_type": "code",
   "execution_count": null,
   "metadata": {},
   "outputs": [],
   "source": [
    "%matplotlib inline"
   ]
  },
  {
   "cell_type": "code",
   "execution_count": null,
   "metadata": {},
   "outputs": [],
   "source": [
    "# Plot crystal trajectories\n",
    "fig=plt.figure(figsize=(12,6))\n",
    "plt.plot(one_data[str(one_id)+'_X'], one_data[str(one_id)+'_Y'], label='One percent', color='k')\n",
    "plt.plot(nine_data[str(nine_id)+'_X'], nine_data[str(nine_id)+'_Y'], label='Nine percent', color='r')\n",
    "plt.plot(twenty_data[str(twenty_id)+'_X'], twenty_data[str(twenty_id)+'_Y'], label='Twenty percent', color='b')\n",
    "plt.legend(['1%', '9%', '20%'])\n",
    "plt.xlim([0, 512])\n",
    "plt.xlabel('Width [cm]', fontsize=14)\n",
    "plt.ylim([0, 256])\n",
    "plt.ylabel('Height [cm]', fontsize=14)\n",
    "plt.title('Crystal trajectories', fontsize=18)\n",
    "# Optional: save the figure to compare the trajectories for different starting locations\n",
    "#plt.savefig('Crystal_trajectories_index'+str(index)+'.png')"
   ]
  },
  {
   "cell_type": "code",
   "execution_count": null,
   "metadata": {},
   "outputs": [],
   "source": [
    "# Plot crystal temperatures\n",
    "fig=plt.figure(figsize=(12,6))\n",
    "short_times = np.arange(len(one_data['crystal_'+str(one_id)+'_temp']))/8\n",
    "long_times = np.arange(len(twenty_data['crystal_'+str(twenty_id)+'_temp']))/8\n",
    "plt.plot(short_times, one_data['crystal_'+str(one_id)+'_temp'], label='One percent', color='k')\n",
    "plt.plot(short_times, nine_data['crystal_'+str(nine_id)+'_temp'], label='Nine percent', color='r')\n",
    "plt.plot(long_times, twenty_data['crystal_'+str(twenty_id)+'_temp'], label='Twenty percent', color='b')\n",
    "plt.legend(['1%', '9%', '20%'], loc=1)\n",
    "plt.xlabel('Time [s]', fontsize=14)\n",
    "plt.ylabel('Crystal Temperature [\\u00b0 C]', fontsize=14)\n",
    "T_R = 1290      # Resident liquid temperature [C]\n",
    "T_I = 1340      # Intruding liquid temperature [C]\n",
    "plt.ylim([T_R, T_I])\n",
    "plt.title('Crystal Temperatures', fontsize=18)\n",
    "# Optional: save the figure to compare the temperatures of the crystals for different starting locations\n",
    "#plt.savefig('Crystal_temperatures_index'+str(index)+'.png')"
   ]
  },
  {
   "cell_type": "code",
   "execution_count": null,
   "metadata": {},
   "outputs": [],
   "source": [
    "# Plot composition of the liquid\n",
    "C_R = 10.7556   # Resident liquid wt% MgO\n",
    "C_I = 12.9419   # Intruding liquid wt% MgO\n",
    "fig=plt.figure(figsize=(12,6))\n",
    "p1=plt.plot(short_times, C_R + (C_I - C_R) * one_data[str(one_id)+'_Scalar'], label='One percent', color='k')\n",
    "p1=plt.plot(short_times, C_R + (C_I - C_R) * nine_data[str(nine_id)+'_Scalar'], label='Nine percent', color='r')\n",
    "p1=plt.plot(long_times, C_R + (C_I - C_R) * twenty_data[str(twenty_id)+'_Scalar'], label='Twenty percent', color='b')\n",
    "plt.legend(['1%', '9%', '20%'], loc=1)\n",
    "plt.xlabel('Time [s]', fontsize=14)\n",
    "plt.ylabel('Liquid MgO wt%', fontsize=14)\n",
    "plt.ylim([C_R, C_I])\n",
    "plt.title('Liquid MgO Composition', fontsize=18)\n",
    "# Optional: save the figure to compare the liquid composition for different starting locations\n",
    "#plt.savefig('Liquid_composition_index'+str(index)+'.png')"
   ]
  },
  {
   "cell_type": "markdown",
   "metadata": {},
   "source": [
    "# Calculating crystal reactions"
   ]
  },
  {
   "cell_type": "markdown",
   "metadata": {},
   "source": [
    "As the crystals move through the domain, they may interact with the intruded liquid causing disequilibrium conditions. We use the crystal convective reaction rate of Chen & Zhang (GCA, 2008). The convective reaction rate assumes the crystal is moving through the surrounding liquid.\n",
    "\n",
    "Each crystal has a diameter <i>d<sub>c</sub></i>, density <i>&rho;<sub>c</sub></i>, and relative velocity <i>U</i>. The liquid has a density <i>&rho;<sub>l</sub></i> and viscosity <i>&mu;<sub>l</sub></i>. Using these parameters, we calculate the Reynolds number <i>Re</i>, Peclet number <i>Pe</i>, and Sherwood number <i>Sh</i>: \n",
    "\n",
    "$$\n",
    "Re = \\Big(\\frac{d_cU\\rho_l}{\\mu_l}\\Big) \\qquad\n",
    "Pe = \\Big(\\frac{d_cU}{D_{MgO}}\\Big) \\qquad\n",
    "Sh = 1 + (1 + Pe)^{1/3}\\Big(1+\\frac{0.096Re^{1/3}}{1+7Re^{-2}}\\Big) \\qquad\n",
    "$$\n",
    "\n",
    "\n",
    "which are used to calculate the boundary layer thickness <i>&delta;</i>:\n",
    "\n",
    "$$\n",
    "\\delta = \\frac{d_c}{Sh}\n",
    "$$ \n",
    "\n",
    "<i>Pe</i> depends on the diffusivity of the equilibrium determining component <i>D</i>, which for olivine in basalt is MgO. The experimental data of Chen & Zhang (2008) demonstrate <i>D<sub>MgO</sub></i> is independent of pressure, and can be calculated as a function of temperature alone:\n",
    "\n",
    "$$\n",
    "ln(D_{MgO}) = -7.895 - \\frac{26257}{T}\n",
    "$$\n",
    "\n",
    "The crystal reaction rate is given by: \n",
    "\n",
    "$$\n",
    "u = \\frac{\\beta D_{MgO}}{\\delta}\n",
    "$$\n",
    "\n",
    "where <i>&beta;</i> is a dimensionless parameter that determines whether the reaction represents crystal growth (<i>&beta;</i> < 0) or dissolution (<i>&beta;</i> > 0). It is determined by the crystal composition <i>C<sub>c</sub></i> (composition refers to the wt% MgO), the liquid interface composition <i>C<sub>0</sub></i>, and the far-field liquid composition <i>C<sub>&infin;</sub></i> :\n",
    "\n",
    "$$\n",
    "\\beta = \\frac{\\rho_l}{\\rho_c}\\Big(\\frac{C_0-C_\\infty}{C_c-C_0}\\Big)\n",
    "$$\n",
    "\n",
    "Both <i>C<sub>c</sub></i> and <i>C<sub>0</sub></i> are functions of the crystal temperature. <i>C<sub>0</sub></i> is calculated using the thermometer of Putirka (2008): \n",
    "\n",
    "$$\n",
    "C_0 = \\frac{T_c-994.4}{26.3}\n",
    "$$\n",
    "\n",
    "and the relationship between temperature and C<sub>c</sub> comes from the results of a MELTS calculation, using a starting composition from Rhodes (1995): \n",
    "\n",
    "$$\n",
    "C_c = 0.0377 T_c - 3.77743\n",
    "$$\n",
    "\n",
    "The calculation of the far-field liquid composition requires some consideration. As the crystal moves through the domain, the composition instantaneously changes for each liquid computational cell it passes through. In reality, the change in composition would be buffered due to boundary layer effects. To account for this, we use an exponential smoothing calculation so the <i>C<sub>&infin;</sub></i> has a \"memory\" of previous liquid compositions. \n",
    "\n",
    "The exponential smoothing calculation is generally used as a forecasting function, where previous times are weighted and used to predict future behavior.\n",
    "\n",
    "$$\n",
    "\\hat{A}_{t+1} = \\alpha A_t + (1-\\alpha) \\hat{A}_t\n",
    "$$\n",
    "\n",
    "Here, <i>&Acirc;<sub>t</sub></i> and <i>&Acirc;<sub>t+1</sub></i> are the predicted values of <i>A</i> at times <i>t</i> and <i>t+1</i>, and <i>A<sub>t</sub></i> is the observed value at time <i>t</i>. <i>&alpha;</i> is the smoothing factor, and ranges from 0 < <i>&alpha;</i> &le; 1. This equation includes multiple terms from previous time steps, which are included in the <i>&Acirc;<sub>t</sub></i>. The number of terms included in the calculation represents the \"memory\" of previous values and is given by <i>n</i>: \n",
    "\n",
    "$$\n",
    "\\hat{A}_{t+1} = \\alpha A_t + \\alpha(1-\\alpha) A_{t-1} + \\alpha(1-\\alpha)^2 A_{t-2} + \\alpha(1-\\alpha)^3 A_{t-3} + ... + \\alpha(1-\\alpha)^{n-1} A_{t-(n-1)}\n",
    "$$\n",
    "\n",
    "In our calculations, rather than giving the greatest weight to the current time step (<i>A<sub>t</sub></i>), we go in reverse order, since the oldest liquid composition the crystal remembers is the closest to the crystal. Additionally, we consider the difference in composition of the far-field and the resident (<i>C<sub>R</sub></i>) liquids, since using the far-field composition would produce values exceeding the intruding liquid composition (<i>C<sub>I</sub></i>). The following is an example when <i>n</i>=4:\n",
    "\n",
    "\n",
    "\\begin{align}\n",
    "\\hat{C}_{\\infty,1} & = C_R + \\alpha(C_{\\infty,0} - C_R) \\\\\n",
    "\\hat{C}_{\\infty,2} & = C_R + \\alpha(C_{\\infty,0} - C_R) + \\alpha(1-\\alpha)(C_{\\infty,1} - C_R) \\\\\n",
    "\\hat{C}_{\\infty,3} & = C_R + \\alpha(C_{\\infty,0} - C_R) + \\alpha(1-\\alpha)(C_{\\infty,1} - C_R) + \\alpha(1-\\alpha)^2(C_{\\infty,2} - C_R) \\\\\n",
    "\\hat{C}_{\\infty,4} & = C_R + \\alpha(C_{\\infty,0} - C_R) + \\alpha(1-\\alpha)(C_{\\infty,1} - C_R) + \\alpha(1-\\alpha)^2(C_{\\infty,2} - C_R) + \\alpha(1-\\alpha)^3(C_{\\infty,3} - C_R) \\\\\n",
    "\\hat{C}_{\\infty,5} & = C_R + \\alpha(C_{\\infty,1} - C_R) + \\alpha(1-\\alpha)(C_{\\infty,2} - C_R) + \\alpha(1-\\alpha)^2(C_{\\infty,3} - C_R) + \\alpha(1-\\alpha)^3(C_{\\infty,4} - C_R) \\\\\n",
    "\\hat{C}_{\\infty,6} & = C_R + \\alpha(C_{\\infty,2} - C_R) + \\alpha(1-\\alpha)(C_{\\infty,3} - C_R) + \\alpha(1-\\alpha)^2(C_{\\infty,4} - C_R) + \\alpha(1-\\alpha)^3(C_{\\infty,5} - C_R) \\\\\n",
    "\\hat{C}_{\\infty,7} & = C_R + \\alpha(C_{\\infty,3} - C_R) + \\alpha(1-\\alpha)(C_{\\infty,4} - C_R) + \\alpha(1-\\alpha)^2(C_{\\infty,5} - C_R) + \\alpha(1-\\alpha)^3(C_{\\infty,6} - C_R) \\\\\n",
    "\\end{align}\n",
    "\n",
    "\n",
    "Notice how the coefficients involving <i>&alpha;(1-&alpha;)<sup>x</sup></i> do not change once the time steps exceed <i>n</i>. Instead, these coefficients shift through the different time steps with <i>n</i> terms, once the initial (<i>n</i>-1) times are over. The plot below shows the effects that <i>&alpha;</i> and <i>n</i> have on determining the <i>&alpha;(1-&alpha;)<sup>x</sup></i> coefficients:\n",
    "<img src=\"alpha_timestep_plots.png\",width=600,height=600>\n",
    "\n",
    "As an example, if <i>&alpha;</i> and <i>n</i> are both 1 the crystal responds instantaneously to the new liquid it encounters, with no memory of previous liquid compositions. If <i>n</i> includes all the time steps and <i>&alpha;</i> is 1, there is no reaction; the crystal remembers only the initial liquid composition. For very small values of <i>&alpha;</i>, the <i>n</i> time steps receive nearly equal weight.  Using the above equations, we can now explore the reaction rate of the chosen particles from the three simulations, chosing different filtering parameters."
   ]
  },
  {
   "cell_type": "markdown",
   "metadata": {},
   "source": [
    "# Choosing the filtering parameters\n",
    "The user chooses a value for n, the length of the filtering window, and &alpha; which determines the weight each timestep has in the filtered boundary layer composition."
   ]
  },
  {
   "cell_type": "code",
   "execution_count": null,
   "metadata": {},
   "outputs": [],
   "source": [
    "n = 8\n",
    "alpha = 0.2"
   ]
  },
  {
   "cell_type": "code",
   "execution_count": null,
   "metadata": {},
   "outputs": [],
   "source": [
    "# Generate coefficients for filtering\n",
    "coefficients = np.zeros(n)\n",
    "for i in range(n):\n",
    "    coefficients[i] = alpha * (1 - alpha) ** i"
   ]
  },
  {
   "cell_type": "code",
   "execution_count": null,
   "metadata": {},
   "outputs": [],
   "source": [
    "# Initialize constants\n",
    "rho_c = 3300    # Crystal density [kg/m^3]\n",
    "d_c = 0.004     # Crystal diameter [m]\n",
    "\n",
    "mu_l = 0.2      # Liquid viscosity [Pa s]\n",
    "rho_l = 2650    # Liquid density [kg/m^3]\n",
    "\n",
    "C_R = 10.7556   # Resident liquid composition [wt% MgO]\n",
    "C_I = 12.9419   # Intruding liquid composition [wt% MgO]\n",
    "\n",
    "T_R = 1290      # Resident liquid temperature [C]\n",
    "T_I = 1340      # Intruding liquid temperature [C]"
   ]
  },
  {
   "cell_type": "code",
   "execution_count": null,
   "metadata": {
    "scrolled": false
   },
   "outputs": [],
   "source": [
    "# Calculate reaction rate and total dissolution\n",
    "def c_infinity(df, scalar_values, coefficients, j, par_id):\n",
    "    \n",
    "    # Calculate the C_inf values for the timesteps to filter\n",
    "    C_inf_temp = C_R + (C_I - C_R) * scalar_values\n",
    "    diff_C_inf = C_inf_temp - C_R\n",
    "    \n",
    "    # Calculate the filtered C_inf value\n",
    "    C_inf = C_R + np.dot(coefficients, diff_C_inf)\n",
    "    if abs(C_inf - C_R) < 0.01:\n",
    "        C_inf = df.loc[j, 'UF_C_0_'+str(par_id)]\n",
    "    return C_inf\n",
    "    \n",
    "    \n",
    "def calc_rxns(df, par_id):\n",
    "\n",
    "    # Set up storage arrays\n",
    "    mini_scalars = np.zeros(n-1)\n",
    "    mini_coefficients = np.zeros(n-1)\n",
    "    full_scalars = np.zeros(n)\n",
    "    C_infs = np.zeros(len(df))\n",
    "    betas = np.zeros(len(df))\n",
    "\n",
    "    # Loop for initial (n-1) time steps which have fewer than n terms\n",
    "    for i in range(n-1):\n",
    "        \n",
    "        # Get C_c and C_0 for the timestep\n",
    "        C_c = df.loc[i, 'UF_C_c_'+str(par_id)]\n",
    "        C_0 = df.loc[i, 'UF_C_0_'+str(par_id)]\n",
    "\n",
    "        # Need to append a new scalar and coefficient for each time\n",
    "        np.put(mini_scalars, i, df.loc[i, str(par_id)+'_Scalar'])\n",
    "        np.put(mini_coefficients, i, coefficients[i])\n",
    "\n",
    "        C_inf = c_infinity(df, mini_scalars, mini_coefficients, i, par_id)\n",
    "        \n",
    "        beta = ((rho_l / rho_c) * (C_0 - C_inf) / (C_c - C_0))\n",
    "        \n",
    "        np.put(C_infs, i, C_inf)\n",
    "        np.put(betas, i, beta)\n",
    "\n",
    "    # Loop for timesteps n or greater\n",
    "    for j in range(n-1, len(df)): \n",
    "\n",
    "        C_c = df.loc[j, 'UF_C_c_'+str(par_id)]\n",
    "        C_0 = df.loc[j, 'UF_C_0_'+str(par_id)]\n",
    "\n",
    "        full_scalars = df.loc[j-(n-1):j, str(par_id)+'_Scalar']\n",
    "        C_inf = c_infinity(df, full_scalars, coefficients, j, par_id)\n",
    "        \n",
    "        beta = ((rho_l / rho_c) * (C_0 - C_inf) / (C_c - C_0))\n",
    "        \n",
    "        np.put(C_infs, j, C_inf)\n",
    "        np.put(betas, j, beta)\n",
    "\n",
    "    # Calculate the reaction rate in microns/s for all time steps\n",
    "    rxn_rate = ((betas * df['D_MgO_'+str(par_id)]) / df['delta_'+str(par_id)]) * 10**6\n",
    "    # Calculate the total dissolution/growth from rxn_rate*time step\n",
    "    size_change = np.cumsum(rxn_rate) * 0.125\n",
    "\n",
    "    return (C_infs, betas, rxn_rate, size_change)\n",
    "\n",
    "\n",
    "start = time.time()\n",
    "(one_C_infs, one_betas, one_rxn_rate, one_size_change) = calc_rxns(one_data, one_id)\n",
    "(nine_C_infs, nine_betas, nine_rxn_rate, nine_size_change) = calc_rxns(nine_data, nine_id)\n",
    "(twenty_C_infs, twenty_betas, twenty_rxn_rate, twenty_size_change) = calc_rxns(twenty_data, twenty_id)\n",
    "end = time.time()\n",
    "print(end-start)"
   ]
  },
  {
   "cell_type": "markdown",
   "metadata": {},
   "source": [
    "## Viewing the results\n",
    "The following plots show the resulting reaction rates (rates < 0 are growth, rates > 0 are dissolution), and the total crystal dissolution. The system we are examining tends to only result in cumulative crystal dissolution, but it is possible to get rates representing growth. There is the option to save the figures (just uncomment the last line in each of the cells), so you can compare the effects of changing <i>n</i> and <i>&alpha;</i>. This saves the plots with the index and the values of <i>n</i> and <i>&alpha;</i> in the file name."
   ]
  },
  {
   "cell_type": "code",
   "execution_count": null,
   "metadata": {},
   "outputs": [],
   "source": [
    "# Plot reaction rate\n",
    "fig=plt.figure(figsize=(12,6))\n",
    "short_times = np.arange(len(one_data['crystal_'+str(one_id)+'_temp']))/8\n",
    "long_times = np.arange(len(twenty_data['crystal_'+str(twenty_id)+'_temp']))/8\n",
    "plt.plot(short_times, one_rxn_rate, label='One percent', color='k')\n",
    "plt.plot(short_times, nine_rxn_rate, label='Nine percent', color='r')\n",
    "plt.plot(long_times, twenty_rxn_rate, label='Twenty percent', color='b')\n",
    "plt.legend(['1%', '9%', '20%'], loc=1)\n",
    "plt.xlabel('Time [s]', fontsize=14)\n",
    "plt.ylabel('Reaction rate [microns/s]', fontsize=14)\n",
    "plt.title('Reaction rate for the 3 simulations', fontsize=18)\n",
    "# Optional: save the figure to compare different starting locations and values of n and alpha\n",
    "#plt.savefig('Reaction_rate_index'+str(index)+'_n'+str(n)+'_alpha'+str(alpha)+'.png')"
   ]
  },
  {
   "cell_type": "code",
   "execution_count": null,
   "metadata": {},
   "outputs": [],
   "source": [
    "# Plot total dissolution\n",
    "fig=plt.figure(figsize=(12,6))\n",
    "plt.plot(short_times, one_size_change, label='One percent', color='k')\n",
    "plt.plot(short_times, nine_size_change, label='Nine percent', color='r')\n",
    "plt.plot(long_times, twenty_size_change, label='Twenty percent', color='b')\n",
    "plt.legend(['1%', '9%', '20%'], loc=1)\n",
    "plt.xlabel('Time [s]', fontsize=14)\n",
    "plt.ylabel('Total dissolved [microns]', fontsize=14)\n",
    "plt.title('Crystal dissolution for the 3 simulations', fontsize=18)\n",
    "# Optional: save the figure to compare different starting locations and values of n and alpha\n",
    "#plt.savefig('Crystal_dissolution_index'+str(index)+'_n'+str(n)+'_alpha'+str(alpha)+'.png')"
   ]
  },
  {
   "cell_type": "markdown",
   "metadata": {},
   "source": [
    "## References\n",
    "Chen, Y., & Zhang, Y. (2008). Olivine dissolution in basaltic melt. <i>Geochimica et Cosmochimica Acta</i>, 72(19), 4756-4777.\n",
    "\n",
    "Putirka, K. D. (2008). Thermometers and barometers for volcanic systems. <i>Reviews in Mineralogy and Geochemistry</i>, 69(1), 61-120.\n",
    "\n",
    "Rhodes, J. M. (1995). The 1852 and 1868 Mauna Loa picrite eruptions: clues to parental magma compositions and the magmatic plumbing system. <i>Mauna Loa Revealed: Structure, Composition, History, and Hazards</i>, 241-262."
   ]
  }
 ],
 "metadata": {
  "anaconda-cloud": {},
  "kernelspec": {
   "display_name": "Python 3",
   "language": "python",
   "name": "python3"
  },
  "language_info": {
   "codemirror_mode": {
    "name": "ipython",
    "version": 3
   },
   "file_extension": ".py",
   "mimetype": "text/x-python",
   "name": "python",
   "nbconvert_exporter": "python",
   "pygments_lexer": "ipython3",
   "version": "3.6.4"
  }
 },
 "nbformat": 4,
 "nbformat_minor": 2
}
